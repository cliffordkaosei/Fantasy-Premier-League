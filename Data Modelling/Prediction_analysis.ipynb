{
 "cells": [
  {
   "cell_type": "code",
   "execution_count": 1,
   "metadata": {},
   "outputs": [],
   "source": [
    "import pandas as pd\n",
    "from sklearn.preprocessing import StandardScaler\n",
    "from sklearn.linear_model import LinearRegression\n",
    "from sklearn.metrics import mean_squared_error, r2_score"
   ]
  },
  {
   "cell_type": "markdown",
   "metadata": {},
   "source": [
    "Import Data"
   ]
  },
  {
   "cell_type": "code",
   "execution_count": 2,
   "metadata": {},
   "outputs": [],
   "source": [
    "timeseries_data = pd.read_csv('timeseries_data.csv')\n",
    "\n",
    "df = timeseries_data.copy()"
   ]
  },
  {
   "cell_type": "markdown",
   "metadata": {},
   "source": [
    "Feature Engineering\n",
    "- Create new features to investigate impact on model performance\n",
    "- Convert categorical features if needed"
   ]
  },
  {
   "cell_type": "code",
   "execution_count": 3,
   "metadata": {},
   "outputs": [],
   "source": [
    "#Create average games played variable\n",
    "game_duration = 90\n",
    "average_games_played = df['MP'] / game_duration\n",
    "\n",
    "df['GP'] = average_games_played"
   ]
  },
  {
   "cell_type": "code",
   "execution_count": 4,
   "metadata": {},
   "outputs": [
    {
     "name": "stdout",
     "output_type": "stream",
     "text": [
      "['MID' 'FWD' 'DEF' 'GKP' ' DEF']\n"
     ]
    }
   ],
   "source": [
    "#Checking unique values of positions before encoding\n",
    "print(df['Position'].unique())"
   ]
  },
  {
   "cell_type": "code",
   "execution_count": 5,
   "metadata": {},
   "outputs": [],
   "source": [
    "# Remove leading and trailing whitespace from the 'DEF' position\n",
    "df['Position'] = df['Position'].str.strip()"
   ]
  },
  {
   "cell_type": "code",
   "execution_count": 6,
   "metadata": {},
   "outputs": [
    {
     "name": "stdout",
     "output_type": "stream",
     "text": [
      "['MID' 'FWD' 'DEF' 'GKP']\n"
     ]
    }
   ],
   "source": [
    "#Verify whitespace has been removed\n",
    "print(df['Position'].unique())"
   ]
  },
  {
   "cell_type": "code",
   "execution_count": 7,
   "metadata": {},
   "outputs": [],
   "source": [
    "# Perform one-hot encoding\n",
    "positions_encoded = pd.get_dummies(df['Position'])\n",
    "\n",
    "# Concatenate the encoded columns with the original DataFrame\n",
    "df = pd.concat([df, positions_encoded], axis=1)"
   ]
  },
  {
   "cell_type": "markdown",
   "metadata": {},
   "source": [
    "Split into training and test data\n",
    "- Train data: All seasons before 23/24 season\n",
    "- Test data: Current 23/24 season"
   ]
  },
  {
   "cell_type": "code",
   "execution_count": 9,
   "metadata": {},
   "outputs": [],
   "source": [
    "# Filter the DataFrame to exclude rows with the year 2023\n",
    "df_train = df[df['Season'] != '2023-08-01']\n",
    "\n",
    "# Filter data for the 2023 season for testing\n",
    "df_test = df[df['Season'] == '2023-08-01']"
   ]
  },
  {
   "cell_type": "code",
   "execution_count": null,
   "metadata": {},
   "outputs": [],
   "source": [
    "# Select features and target variable\n",
    "features = ['GS', 'A', 'CS', 'BPS', 'MP', 'DEF', 'FWD', 'MID', 'GKP']\n",
    "target = 'Pts'\n",
    "\n",
    "# Split the data into features (X) and target variable (y)\n",
    "X = df_train[features]\n",
    "y = df_train[target]"
   ]
  },
  {
   "cell_type": "markdown",
   "metadata": {},
   "source": [
    "Model Fitting\n",
    "- Using linear regression model\n",
    "- MSE and R Squared as evaluation metrics\n",
    "- Feature standardisation (optional)"
   ]
  },
  {
   "cell_type": "code",
   "execution_count": 63,
   "metadata": {},
   "outputs": [],
   "source": [
    "# # Standardize the features\n",
    "# scaler = StandardScaler()\n",
    "# X_train_scaled = scaler.fit_transform(X)\n",
    "\n",
    "# # Use the scaler trained on the training set to transform the 2023 season data\n",
    "# X_test_scaled = scaler.transform(df_test[features])\n",
    "\n",
    "# Create a Linear Regression model\n",
    "model = LinearRegression()\n",
    "\n",
    "# Train the model on historical data\n",
    "model.fit(X, y)\n",
    "\n",
    "# Make predictions on the 2023 season data\n",
    "y_pred_2023 = model.predict(df_test[features])\n",
    "\n",
    "# Actual target values for the 2023 season\n",
    "y_actual_2023 = df_test[target]\n"
   ]
  },
  {
   "cell_type": "code",
   "execution_count": 64,
   "metadata": {},
   "outputs": [
    {
     "name": "stdout",
     "output_type": "stream",
     "text": [
      "Mean Squared Error: 19.4878\n",
      "R-squared: 0.9751\n"
     ]
    }
   ],
   "source": [
    "# Model Evaluation\n",
    "mse = mean_squared_error(y_actual_2023, y_pred_2023)\n",
    "r2 = r2_score(y_actual_2023, y_pred_2023)\n",
    "\n",
    "print(f\"Mean Squared Error: {mse:.4f}\")\n",
    "print(f\"R-squared: {r2:.4f}\")"
   ]
  },
  {
   "cell_type": "markdown",
   "metadata": {},
   "source": [
    "Display Results\n",
    "- select players with the most predicted points based on positions"
   ]
  },
  {
   "cell_type": "code",
   "execution_count": 58,
   "metadata": {},
   "outputs": [
    {
     "data": {
      "text/html": [
       "<div>\n",
       "<style scoped>\n",
       "    .dataframe tbody tr th:only-of-type {\n",
       "        vertical-align: middle;\n",
       "    }\n",
       "\n",
       "    .dataframe tbody tr th {\n",
       "        vertical-align: top;\n",
       "    }\n",
       "\n",
       "    .dataframe thead th {\n",
       "        text-align: right;\n",
       "    }\n",
       "</style>\n",
       "<table border=\"1\" class=\"dataframe\">\n",
       "  <thead>\n",
       "    <tr style=\"text-align: right;\">\n",
       "      <th></th>\n",
       "      <th>Player Name</th>\n",
       "      <th>Position</th>\n",
       "      <th>Team</th>\n",
       "      <th>Actual Pts</th>\n",
       "      <th>Predicted Pts</th>\n",
       "    </tr>\n",
       "  </thead>\n",
       "  <tbody>\n",
       "    <tr>\n",
       "      <th>0</th>\n",
       "      <td>Salah</td>\n",
       "      <td>MID</td>\n",
       "      <td>LIV</td>\n",
       "      <td>156</td>\n",
       "      <td>147</td>\n",
       "    </tr>\n",
       "    <tr>\n",
       "      <th>1</th>\n",
       "      <td>Son</td>\n",
       "      <td>MID</td>\n",
       "      <td>TOT</td>\n",
       "      <td>136</td>\n",
       "      <td>127</td>\n",
       "    </tr>\n",
       "    <tr>\n",
       "      <th>2</th>\n",
       "      <td>Watkins</td>\n",
       "      <td>FWD</td>\n",
       "      <td>AVL</td>\n",
       "      <td>121</td>\n",
       "      <td>127</td>\n",
       "    </tr>\n",
       "    <tr>\n",
       "      <th>3</th>\n",
       "      <td>Bowen</td>\n",
       "      <td>MID</td>\n",
       "      <td>WHU</td>\n",
       "      <td>113</td>\n",
       "      <td>101</td>\n",
       "    </tr>\n",
       "    <tr>\n",
       "      <th>4</th>\n",
       "      <td>Haaland</td>\n",
       "      <td>FWD</td>\n",
       "      <td>MCI</td>\n",
       "      <td>112</td>\n",
       "      <td>127</td>\n",
       "    </tr>\n",
       "    <tr>\n",
       "      <th>...</th>\n",
       "      <td>...</td>\n",
       "      <td>...</td>\n",
       "      <td>...</td>\n",
       "      <td>...</td>\n",
       "      <td>...</td>\n",
       "    </tr>\n",
       "    <tr>\n",
       "      <th>783</th>\n",
       "      <td>Griffiths</td>\n",
       "      <td>MID</td>\n",
       "      <td>WOL</td>\n",
       "      <td>0</td>\n",
       "      <td>1</td>\n",
       "    </tr>\n",
       "    <tr>\n",
       "      <th>784</th>\n",
       "      <td>Mosquera</td>\n",
       "      <td>DEF</td>\n",
       "      <td>WOL</td>\n",
       "      <td>0</td>\n",
       "      <td>-1</td>\n",
       "    </tr>\n",
       "    <tr>\n",
       "      <th>785</th>\n",
       "      <td>Bettinelli</td>\n",
       "      <td>GKP</td>\n",
       "      <td>CHE</td>\n",
       "      <td>-1</td>\n",
       "      <td>5</td>\n",
       "    </tr>\n",
       "    <tr>\n",
       "      <th>786</th>\n",
       "      <td>Rodák</td>\n",
       "      <td>GKP</td>\n",
       "      <td>FUL</td>\n",
       "      <td>-1</td>\n",
       "      <td>5</td>\n",
       "    </tr>\n",
       "    <tr>\n",
       "      <th>1080</th>\n",
       "      <td>Petrovic</td>\n",
       "      <td>GKP</td>\n",
       "      <td>CHE</td>\n",
       "      <td>14</td>\n",
       "      <td>18</td>\n",
       "    </tr>\n",
       "  </tbody>\n",
       "</table>\n",
       "<p>763 rows × 5 columns</p>\n",
       "</div>"
      ],
      "text/plain": [
       "     Player Name Position Team  Actual Pts  Predicted Pts\n",
       "0          Salah      MID  LIV         156            147\n",
       "1            Son      MID  TOT         136            127\n",
       "2        Watkins      FWD  AVL         121            127\n",
       "3          Bowen      MID  WHU         113            101\n",
       "4        Haaland      FWD  MCI         112            127\n",
       "...          ...      ...  ...         ...            ...\n",
       "783    Griffiths      MID  WOL           0              1\n",
       "784     Mosquera      DEF  WOL           0             -1\n",
       "785   Bettinelli      GKP  CHE          -1              5\n",
       "786        Rodák      GKP  FUL          -1              5\n",
       "1080    Petrovic      GKP  CHE          14             18\n",
       "\n",
       "[763 rows x 5 columns]"
      ]
     },
     "execution_count": 58,
     "metadata": {},
     "output_type": "execute_result"
    }
   ],
   "source": [
    "# Create a DataFrame to display the results for the 2023 season\n",
    "results_2023_df = pd.DataFrame({\n",
    "    'Player Name': df_test['Player Name'],\n",
    "    'Position': df_test['Position'],\n",
    "    'Team': df_test['Team'],\n",
    "    'Actual Pts': df_test['Pts'],\n",
    "    'Predicted Pts': y_pred_2023.round().astype(int) # Use rounded and integer predicted points\n",
    "})\n",
    "\n",
    "# Reset the index and drop duplicates of the DataFrame\n",
    "results_2023_df = results_2023_df.reset_index(drop=True)\n",
    "results_2023_df = results_2023_df.drop_duplicates(subset='Player Name', keep='first')\n",
    "\n",
    "results_2023_df"
   ]
  },
  {
   "cell_type": "code",
   "execution_count": 60,
   "metadata": {},
   "outputs": [
    {
     "data": {
      "text/html": [
       "<div>\n",
       "<style scoped>\n",
       "    .dataframe tbody tr th:only-of-type {\n",
       "        vertical-align: middle;\n",
       "    }\n",
       "\n",
       "    .dataframe tbody tr th {\n",
       "        vertical-align: top;\n",
       "    }\n",
       "\n",
       "    .dataframe thead th {\n",
       "        text-align: right;\n",
       "    }\n",
       "</style>\n",
       "<table border=\"1\" class=\"dataframe\">\n",
       "  <thead>\n",
       "    <tr style=\"text-align: right;\">\n",
       "      <th></th>\n",
       "      <th>Player Name</th>\n",
       "      <th>Position</th>\n",
       "      <th>Team</th>\n",
       "      <th>Actual Pts</th>\n",
       "      <th>Predicted Pts</th>\n",
       "    </tr>\n",
       "  </thead>\n",
       "  <tbody>\n",
       "    <tr>\n",
       "      <th>0</th>\n",
       "      <td>Pedro Porro</td>\n",
       "      <td>DEF</td>\n",
       "      <td>TOT</td>\n",
       "      <td>83</td>\n",
       "      <td>90</td>\n",
       "    </tr>\n",
       "    <tr>\n",
       "      <th>1</th>\n",
       "      <td>Trippier</td>\n",
       "      <td>DEF</td>\n",
       "      <td>NEW</td>\n",
       "      <td>86</td>\n",
       "      <td>88</td>\n",
       "    </tr>\n",
       "    <tr>\n",
       "      <th>2</th>\n",
       "      <td>Alexander-Arnold</td>\n",
       "      <td>DEF</td>\n",
       "      <td>LIV</td>\n",
       "      <td>97</td>\n",
       "      <td>87</td>\n",
       "    </tr>\n",
       "    <tr>\n",
       "      <th>3</th>\n",
       "      <td>Saliba</td>\n",
       "      <td>DEF</td>\n",
       "      <td>ARS</td>\n",
       "      <td>81</td>\n",
       "      <td>77</td>\n",
       "    </tr>\n",
       "    <tr>\n",
       "      <th>4</th>\n",
       "      <td>Salah</td>\n",
       "      <td>MID</td>\n",
       "      <td>LIV</td>\n",
       "      <td>156</td>\n",
       "      <td>147</td>\n",
       "    </tr>\n",
       "    <tr>\n",
       "      <th>5</th>\n",
       "      <td>Son</td>\n",
       "      <td>MID</td>\n",
       "      <td>TOT</td>\n",
       "      <td>136</td>\n",
       "      <td>127</td>\n",
       "    </tr>\n",
       "    <tr>\n",
       "      <th>6</th>\n",
       "      <td>Saka</td>\n",
       "      <td>MID</td>\n",
       "      <td>ARS</td>\n",
       "      <td>110</td>\n",
       "      <td>111</td>\n",
       "    </tr>\n",
       "    <tr>\n",
       "      <th>7</th>\n",
       "      <td>Gordon</td>\n",
       "      <td>MID</td>\n",
       "      <td>NEW</td>\n",
       "      <td>104</td>\n",
       "      <td>107</td>\n",
       "    </tr>\n",
       "    <tr>\n",
       "      <th>8</th>\n",
       "      <td>Watkins</td>\n",
       "      <td>FWD</td>\n",
       "      <td>AVL</td>\n",
       "      <td>121</td>\n",
       "      <td>127</td>\n",
       "    </tr>\n",
       "    <tr>\n",
       "      <th>9</th>\n",
       "      <td>Haaland</td>\n",
       "      <td>FWD</td>\n",
       "      <td>MCI</td>\n",
       "      <td>112</td>\n",
       "      <td>127</td>\n",
       "    </tr>\n",
       "    <tr>\n",
       "      <th>10</th>\n",
       "      <td>A.Becker</td>\n",
       "      <td>GKP</td>\n",
       "      <td>LIV</td>\n",
       "      <td>83</td>\n",
       "      <td>75</td>\n",
       "    </tr>\n",
       "    <tr>\n",
       "      <th>11</th>\n",
       "      <td>Leno</td>\n",
       "      <td>GKP</td>\n",
       "      <td>FUL</td>\n",
       "      <td>73</td>\n",
       "      <td>74</td>\n",
       "    </tr>\n",
       "  </tbody>\n",
       "</table>\n",
       "</div>"
      ],
      "text/plain": [
       "         Player Name Position Team  Actual Pts  Predicted Pts\n",
       "0        Pedro Porro      DEF  TOT          83             90\n",
       "1           Trippier      DEF  NEW          86             88\n",
       "2   Alexander-Arnold      DEF  LIV          97             87\n",
       "3             Saliba      DEF  ARS          81             77\n",
       "4              Salah      MID  LIV         156            147\n",
       "5                Son      MID  TOT         136            127\n",
       "6               Saka      MID  ARS         110            111\n",
       "7             Gordon      MID  NEW         104            107\n",
       "8            Watkins      FWD  AVL         121            127\n",
       "9            Haaland      FWD  MCI         112            127\n",
       "10          A.Becker      GKP  LIV          83             75\n",
       "11              Leno      GKP  FUL          73             74"
      ]
     },
     "execution_count": 60,
     "metadata": {},
     "output_type": "execute_result"
    }
   ],
   "source": [
    "#Group players by position\n",
    "position_groups = results_2023_df.groupby('Position')\n",
    "\n",
    "# Define the number of players to select for each position\n",
    "num_defenders = 4\n",
    "num_midfielders = 4\n",
    "num_forwards = 2\n",
    "num_gkp = 2\n",
    "\n",
    "# Select the top players for each position based on points\n",
    "top_defenders = position_groups.get_group('DEF').nlargest(num_defenders, 'Predicted Pts')\n",
    "top_midfielders = position_groups.get_group('MID').nlargest(num_midfielders, 'Predicted Pts')\n",
    "top_forwards = position_groups.get_group('FWD').nlargest(num_forwards, 'Predicted Pts')\n",
    "best_goalkeeper = position_groups.get_group('GKP').nlargest(num_gkp, 'Predicted Pts')\n",
    "\n",
    "# Concatenate the selected players into a single DataFrame\n",
    "selected_players = pd.concat([top_defenders, top_midfielders, top_forwards, best_goalkeeper])\n",
    "\n",
    "selected_players = selected_players.reset_index(drop=True)\n",
    "\n",
    "selected_players"
   ]
  }
 ],
 "metadata": {
  "kernelspec": {
   "display_name": "Python 3",
   "language": "python",
   "name": "python3"
  },
  "language_info": {
   "codemirror_mode": {
    "name": "ipython",
    "version": 3
   },
   "file_extension": ".py",
   "mimetype": "text/x-python",
   "name": "python",
   "nbconvert_exporter": "python",
   "pygments_lexer": "ipython3",
   "version": "3.11.3"
  }
 },
 "nbformat": 4,
 "nbformat_minor": 2
}
