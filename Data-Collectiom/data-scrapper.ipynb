{
 "cells": [
  {
   "cell_type": "code",
   "execution_count": 1,
   "metadata": {},
   "outputs": [],
   "source": [
    "import pandas as pd\n",
    "import time\n",
    "from time import sleep\n",
    "from selenium import webdriver\n",
    "from selenium.webdriver.common.keys import Keys\n",
    "from selenium.webdriver.chrome.options import Options\n",
    "from selenium.webdriver.common.by import By\n",
    "from selenium.webdriver.support.ui import WebDriverWait\n",
    "from bs4 import BeautifulSoup"
   ]
  },
  {
   "cell_type": "code",
   "execution_count": 2,
   "metadata": {},
   "outputs": [],
   "source": [
    "#Empty lists to store FPL stats\n",
    "player_name, Team, Pos, Pts = [], [], [], []\n",
    "Gs, assists, cleansheets, bonus, bonus_point_sys, points_per_game = [], [], [], [], [], []\n",
    "minutes_played, cost, team_selection, goals_conceeded, own_goals, penalties_saved = [], [], [], [], [], []\n",
    "peanlties_missed, yellow_cards, red_cards, ICT = [], [], [], []"
   ]
  },
  {
   "cell_type": "code",
   "execution_count": 3,
   "metadata": {},
   "outputs": [],
   "source": [
    "#Initialising web page browsing\n",
    "driver = webdriver.Edge()\n",
    "driver.maximize_window()\n",
    "\n",
    "url = 'https://www.fantasynutmeg.com/history'\n",
    "\n",
    "driver.get(url)\n",
    "time.sleep(10)"
   ]
  },
  {
   "cell_type": "code",
   "execution_count": 4,
   "metadata": {},
   "outputs": [],
   "source": [
    "#Locating table of FPL stats\n",
    "table_element = driver.find_element(By.XPATH, '/html/body/div[2]/div/div[2]/div/div[1]/div/div[2]/div[1]')\n",
    "\n",
    "time.sleep(5)\n",
    "\n",
    "driver.execute_script(\"arguments[0].scrollIntoView();\", table_element)\n"
   ]
  },
  {
   "cell_type": "code",
   "execution_count": 5,
   "metadata": {},
   "outputs": [],
   "source": [
    "#Get scrolling element of table\n",
    "table_scroll = driver.find_element(By.XPATH, '/html/body/div[2]/div/div[2]/div/div[1]/div/div[2]/div[1]/div[2]/div/div[1]/div[2]')\n",
    "\n",
    "#Define scrolling parameters\n",
    "table_height = driver.execute_script(\"return arguments[0].scrollHeight;\", table_scroll)\n",
    "current_scroll = 0\n"
   ]
  },
  {
   "cell_type": "code",
   "execution_count": 6,
   "metadata": {},
   "outputs": [],
   "source": [
    "while current_scroll < table_height:\n",
    "    scroll_position = current_scroll\n",
    "    driver.execute_script(f\"arguments[0].scrollTop = {scroll_position};\", table_scroll)\n",
    "    time.sleep(0.5)  # Adjust the sleep duration as needed\n",
    "\n",
    "    data_source = driver.page_source\n",
    "    soup = BeautifulSoup(data_source, \"html.parser\")\n",
    "\n",
    "    results = soup.find(class_=\"ui-grid-viewport ng-isolate-scope\")\n",
    "\n",
    "    player_info = results.find_all(\"div\", class_=\"ui-grid-row ng-scope\")\n",
    "    player_info2 = results.find_all([\"div\"], class_=[\"ui-grid-cell ng-scope ui-grid-coluiGrid-0014\",\n",
    "                                                     \"ui-grid-cell ng-scope ui-grid-coluiGrid-0015\",\n",
    "                                                     \"ui-grid-cell ng-scope ui-grid-coluiGrid-0017\"])\n",
    "\n",
    "    for player in player_info:\n",
    "        name_element = player.find(\"div\", class_=\"ui-grid-cell ng-scope ui-grid-coluiGrid-000J\").text\n",
    "        team_element = player.find(\"div\", class_=\"ui-grid-cell ng-scope ui-grid-coluiGrid-000K\").text\n",
    "        pos_element = player.find(\"div\", class_=\"ui-grid-cell ng-scope ui-grid-coluiGrid-000L\").text\n",
    "        pts_element = player.find(\"div\", class_=\"ui-grid-cell ng-scope ui-grid-coluiGrid-000M\").text\n",
    "        gs_element = player.find(\"div\", class_=\"ui-grid-cell ng-scope ui-grid-coluiGrid-000N\").text\n",
    "        assist_element = player.find(\"div\", class_=\"ui-grid-cell ng-scope ui-grid-coluiGrid-000O\").text\n",
    "        cleansheet_element = player.find(\"div\", class_=\"ui-grid-cell ng-scope ui-grid-coluiGrid-000P\").text\n",
    "        bonus_element = player.find(\"div\", class_=\"ui-grid-cell ng-scope ui-grid-coluiGrid-000U\").text\n",
    "        bonus_ps_element = player.find(\"div\", class_=\"ui-grid-cell ng-scope ui-grid-coluiGrid-000V\").text\n",
    "        ppg_element = player.find(\"div\", class_=\"ui-grid-cell ng-scope ui-grid-coluiGrid-000W\").text\n",
    "        mp_element = player.find(\"div\", class_=\"ui-grid-cell ng-scope ui-grid-coluiGrid-000X\").text\n",
    "        cost_element = player.find(\"div\", class_=\"ui-grid-cell ng-scope ui-grid-coluiGrid-000Y\").text\n",
    "        selected_element = player.find(\"div\", class_=\"ui-grid-cell ng-scope ui-grid-coluiGrid-000Z\").text\n",
    "        gc_element = player.find(\"div\", class_=\"ui-grid-cell ng-scope ui-grid-coluiGrid-0010\").text\n",
    "        og_element = player.find(\"div\", class_=\"ui-grid-cell ng-scope ui-grid-coluiGrid-0011\").text\n",
    "        ps_element = player.find(\"div\", class_=\"ui-grid-cell ng-scope ui-grid-coluiGrid-0012\").text\n",
    "        pm_element = player.find(\"div\", class_=\"ui-grid-cell ng-scope ui-grid-coluiGrid-0013\").text\n",
    "\n",
    "        #Append to lists\n",
    "        player_name.append(name_element)\n",
    "        Team.append(team_element)\n",
    "        Pos.append(pos_element)\n",
    "        Pts.append(pts_element)\n",
    "        Gs.append(gs_element)\n",
    "        assists.append(assist_element)\n",
    "        cleansheets.append(cleansheet_element)\n",
    "        bonus.append(bonus_element)\n",
    "        bonus_point_sys.append(bonus_ps_element)\n",
    "        points_per_game.append(ppg_element)\n",
    "        minutes_played.append(mp_element)\n",
    "        cost.append(cost_element)\n",
    "        team_selection.append(selected_element)\n",
    "        goals_conceeded.append(gc_element)\n",
    "        own_goals.append(og_element)\n",
    "        penalties_saved.append(ps_element)\n",
    "        peanlties_missed.append(pm_element)\n",
    "    \n",
    "    for player in player_info2:\n",
    "            player_element = player.find(\"div\", class_=\"ui-grid-cell-contents ng-binding ng-scope\")\n",
    "            if player_element:\n",
    "                yellow_cards.append(player_element[0])\n",
    "                red_cards.append(player_element[1])\n",
    "                ICT.append(player_element[2])\n",
    "\n",
    "    current_scroll += 100\n",
    "    \n"
   ]
  },
  {
   "cell_type": "code",
   "execution_count": 7,
   "metadata": {},
   "outputs": [],
   "source": [
    "df1 = pd.DataFrame(player_name, columns=[\"Player Name\"])\n",
    "df2 = pd.DataFrame(Team, columns=[\"Team\"])\n",
    "df3 = pd.DataFrame(Pos, columns=[\"Position\"])\n",
    "df4 = pd.DataFrame(Pts, columns=[\"Pts\"])\n",
    "df5 = pd.DataFrame(Gs, columns=[\"GS\"])\n",
    "df6 = pd.DataFrame(assists, columns=[\"A\"])\n",
    "df7 = pd.DataFrame(cleansheets, columns=[\"CS\"])\n",
    "df8 = pd.DataFrame(bonus, columns=[\"B\"])\n",
    "df9 = pd.DataFrame(bonus_point_sys, columns=[\"BPS\"])\n",
    "df10 = pd.DataFrame(points_per_game, columns=[\"PPG\"])\n",
    "df11 = pd.DataFrame(minutes_played, columns=[\"MP\"])\n",
    "df12 = pd.DataFrame(cost, columns=[\"Cost\"])\n",
    "df13 = pd.DataFrame(team_selection, columns=[\"TSB\"])\n",
    "df14 = pd.DataFrame(goals_conceeded, columns=[\"GC\"])\n",
    "df15 = pd.DataFrame(own_goals, columns=[\"OG\"])\n",
    "df16 = pd.DataFrame(penalties_saved, columns=[\"PS\"])\n",
    "df17 = pd.DataFrame(peanlties_missed, columns=[\"PM\"])\n",
    "df18 = pd.DataFrame(yellow_cards, columns=[\"YC\"])\n",
    "df19 = pd.DataFrame(red_cards, columns=[\"RC\"])\n",
    "df20 = pd.DataFrame(ICT, columns=[\"ICT\"])\n"
   ]
  },
  {
   "cell_type": "code",
   "execution_count": 8,
   "metadata": {},
   "outputs": [
    {
     "name": "stdout",
     "output_type": "stream",
     "text": [
      "3860\n"
     ]
    }
   ],
   "source": [
    "final = df1.join(df2).join(df3).join(df4).join(df5).join(df6).join(df7).join(df8).join(df9).join(df10).join(df11).join(df12).join(df13).join(df14).join(df15).join(df16).join(df17).join(df18).join(df19).join(df20)\n",
    "print(len(final))"
   ]
  },
  {
   "cell_type": "code",
   "execution_count": 9,
   "metadata": {},
   "outputs": [],
   "source": [
    "final = final.drop_duplicates(subset=['Player Name', 'Team', 'Position', 'Cost'])"
   ]
  },
  {
   "cell_type": "code",
   "execution_count": 10,
   "metadata": {},
   "outputs": [
    {
     "name": "stdout",
     "output_type": "stream",
     "text": [
      "758\n"
     ]
    }
   ],
   "source": [
    "final\n",
    "print(len(final))"
   ]
  },
  {
   "cell_type": "code",
   "execution_count": 11,
   "metadata": {},
   "outputs": [],
   "source": [
    "final.to_excel('2018 data.xlsx', index=False)"
   ]
  }
 ],
 "metadata": {
  "kernelspec": {
   "display_name": "Python 3",
   "language": "python",
   "name": "python3"
  },
  "language_info": {
   "codemirror_mode": {
    "name": "ipython",
    "version": 3
   },
   "file_extension": ".py",
   "mimetype": "text/x-python",
   "name": "python",
   "nbconvert_exporter": "python",
   "pygments_lexer": "ipython3",
   "version": "3.11.3"
  }
 },
 "nbformat": 4,
 "nbformat_minor": 2
}
