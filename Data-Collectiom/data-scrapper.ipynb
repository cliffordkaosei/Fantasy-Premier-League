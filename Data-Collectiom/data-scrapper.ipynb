{
 "cells": [
  {
   "cell_type": "code",
   "execution_count": 1,
   "metadata": {},
   "outputs": [],
   "source": [
    "import pandas as pd\n",
    "import time\n",
    "from time import sleep\n",
    "from selenium import webdriver\n",
    "from selenium.webdriver.common.keys import Keys\n",
    "from selenium.webdriver.chrome.options import Options\n",
    "from selenium.webdriver.common.by import By\n",
    "from selenium.webdriver.support.ui import WebDriverWait\n",
    "from bs4 import BeautifulSoup"
   ]
  },
  {
   "cell_type": "code",
   "execution_count": 2,
   "metadata": {},
   "outputs": [
    {
     "name": "stdout",
     "output_type": "stream",
     "text": [
      "You entered: 2023  Remember to select the seaosn and click update when the web page appears and pauses\n"
     ]
    }
   ],
   "source": [
    "#State season to collect data from\n",
    "\n",
    "season = input(\"Enter start year of season to collect data from: \")\n",
    "print(\"You entered:\", season, \" Remember to select the seaosn and click update when the web page appears and pauses\")"
   ]
  },
  {
   "cell_type": "code",
   "execution_count": 3,
   "metadata": {},
   "outputs": [],
   "source": [
    "#Empty lists to store FPL stats\n",
    "list_num = 20\n",
    "list_of_lists =[[] for _ in range(list_num)]"
   ]
  },
  {
   "cell_type": "code",
   "execution_count": 4,
   "metadata": {},
   "outputs": [],
   "source": [
    "#Initialising web page browsing\n",
    "driver = webdriver.Edge()\n",
    "driver.maximize_window()\n",
    "\n",
    "url = 'https://www.fantasynutmeg.com/history'\n",
    "\n",
    "driver.get(url)\n",
    "time.sleep(10) #Use pause to select season and click update, remember to set year variable first"
   ]
  },
  {
   "cell_type": "code",
   "execution_count": 5,
   "metadata": {},
   "outputs": [],
   "source": [
    "#Locating table of FPL stats\n",
    "table_element = driver.find_element(By.XPATH, '/html/body/div[2]/div/div[2]/div/div[1]/div/div[2]/div[1]')\n",
    "driver.execute_script(\"arguments[0].scrollIntoView();\", table_element)\n"
   ]
  },
  {
   "cell_type": "code",
   "execution_count": 6,
   "metadata": {},
   "outputs": [],
   "source": [
    "#Get scrolling element of table\n",
    "table_scroll = driver.find_element(By.XPATH, '/html/body/div[2]/div/div[2]/div/div[1]/div/div[2]/div[1]/div[2]/div/div[1]/div[2]')\n",
    "\n",
    "#Define scrolling parameters\n",
    "table_height = driver.execute_script(\"return arguments[0].scrollHeight;\", table_scroll)\n",
    "current_scroll = 0\n"
   ]
  },
  {
   "cell_type": "code",
   "execution_count": 7,
   "metadata": {},
   "outputs": [
    {
     "ename": "KeyboardInterrupt",
     "evalue": "",
     "output_type": "error",
     "traceback": [
      "\u001b[1;31m---------------------------------------------------------------------------\u001b[0m",
      "\u001b[1;31mKeyboardInterrupt\u001b[0m                         Traceback (most recent call last)",
      "\u001b[1;32mc:\\Users\\clifford.osei\\Documents\\Fantasy-Premier-League\\Data-Collectiom\\data-scrapper.ipynb Cell 7\u001b[0m line \u001b[0;36m2\n\u001b[0;32m     <a href='vscode-notebook-cell:/c%3A/Users/clifford.osei/Documents/Fantasy-Premier-League/Data-Collectiom/data-scrapper.ipynb#W6sZmlsZQ%3D%3D?line=25'>26</a>\u001b[0m ppg_element \u001b[39m=\u001b[39m player\u001b[39m.\u001b[39mfind(\u001b[39m\"\u001b[39m\u001b[39mdiv\u001b[39m\u001b[39m\"\u001b[39m, class_\u001b[39m=\u001b[39m\u001b[39m\"\u001b[39m\u001b[39mui-grid-cell ng-scope ui-grid-coluiGrid-000W\u001b[39m\u001b[39m\"\u001b[39m)\u001b[39m.\u001b[39mtext\n\u001b[0;32m     <a href='vscode-notebook-cell:/c%3A/Users/clifford.osei/Documents/Fantasy-Premier-League/Data-Collectiom/data-scrapper.ipynb#W6sZmlsZQ%3D%3D?line=26'>27</a>\u001b[0m mp_element \u001b[39m=\u001b[39m player\u001b[39m.\u001b[39mfind(\u001b[39m\"\u001b[39m\u001b[39mdiv\u001b[39m\u001b[39m\"\u001b[39m, class_\u001b[39m=\u001b[39m\u001b[39m\"\u001b[39m\u001b[39mui-grid-cell ng-scope ui-grid-coluiGrid-000X\u001b[39m\u001b[39m\"\u001b[39m)\u001b[39m.\u001b[39mtext\n\u001b[1;32m---> <a href='vscode-notebook-cell:/c%3A/Users/clifford.osei/Documents/Fantasy-Premier-League/Data-Collectiom/data-scrapper.ipynb#W6sZmlsZQ%3D%3D?line=27'>28</a>\u001b[0m cost_element \u001b[39m=\u001b[39m player\u001b[39m.\u001b[39;49mfind(\u001b[39m\"\u001b[39;49m\u001b[39mdiv\u001b[39;49m\u001b[39m\"\u001b[39;49m, class_\u001b[39m=\u001b[39;49m\u001b[39m\"\u001b[39;49m\u001b[39mui-grid-cell ng-scope ui-grid-coluiGrid-000Y\u001b[39;49m\u001b[39m\"\u001b[39;49m)\u001b[39m.\u001b[39mtext\n\u001b[0;32m     <a href='vscode-notebook-cell:/c%3A/Users/clifford.osei/Documents/Fantasy-Premier-League/Data-Collectiom/data-scrapper.ipynb#W6sZmlsZQ%3D%3D?line=28'>29</a>\u001b[0m selected_element \u001b[39m=\u001b[39m player\u001b[39m.\u001b[39mfind(\u001b[39m\"\u001b[39m\u001b[39mdiv\u001b[39m\u001b[39m\"\u001b[39m, class_\u001b[39m=\u001b[39m\u001b[39m\"\u001b[39m\u001b[39mui-grid-cell ng-scope ui-grid-coluiGrid-000Z\u001b[39m\u001b[39m\"\u001b[39m)\u001b[39m.\u001b[39mtext\n\u001b[0;32m     <a href='vscode-notebook-cell:/c%3A/Users/clifford.osei/Documents/Fantasy-Premier-League/Data-Collectiom/data-scrapper.ipynb#W6sZmlsZQ%3D%3D?line=29'>30</a>\u001b[0m gc_element \u001b[39m=\u001b[39m player\u001b[39m.\u001b[39mfind(\u001b[39m\"\u001b[39m\u001b[39mdiv\u001b[39m\u001b[39m\"\u001b[39m, class_\u001b[39m=\u001b[39m\u001b[39m\"\u001b[39m\u001b[39mui-grid-cell ng-scope ui-grid-coluiGrid-0010\u001b[39m\u001b[39m\"\u001b[39m)\u001b[39m.\u001b[39mtext\n",
      "File \u001b[1;32mc:\\Users\\clifford.osei\\AppData\\Local\\Programs\\Python\\Python311\\Lib\\site-packages\\bs4\\element.py:2001\u001b[0m, in \u001b[0;36mTag.find\u001b[1;34m(self, name, attrs, recursive, string, **kwargs)\u001b[0m\n\u001b[0;32m   1984\u001b[0m \u001b[39m\u001b[39m\u001b[39m\"\"\"Look in the children of this PageElement and find the first\u001b[39;00m\n\u001b[0;32m   1985\u001b[0m \u001b[39mPageElement that matches the given criteria.\u001b[39;00m\n\u001b[0;32m   1986\u001b[0m \n\u001b[1;32m   (...)\u001b[0m\n\u001b[0;32m   1998\u001b[0m \u001b[39m:rtype: bs4.element.Tag | bs4.element.NavigableString\u001b[39;00m\n\u001b[0;32m   1999\u001b[0m \u001b[39m\"\"\"\u001b[39;00m\n\u001b[0;32m   2000\u001b[0m r \u001b[39m=\u001b[39m \u001b[39mNone\u001b[39;00m\n\u001b[1;32m-> 2001\u001b[0m l \u001b[39m=\u001b[39m \u001b[39mself\u001b[39;49m\u001b[39m.\u001b[39;49mfind_all(name, attrs, recursive, string, \u001b[39m1\u001b[39;49m, _stacklevel\u001b[39m=\u001b[39;49m\u001b[39m3\u001b[39;49m,\n\u001b[0;32m   2002\u001b[0m                   \u001b[39m*\u001b[39;49m\u001b[39m*\u001b[39;49mkwargs)\n\u001b[0;32m   2003\u001b[0m \u001b[39mif\u001b[39;00m l:\n\u001b[0;32m   2004\u001b[0m     r \u001b[39m=\u001b[39m l[\u001b[39m0\u001b[39m]\n",
      "File \u001b[1;32mc:\\Users\\clifford.osei\\AppData\\Local\\Programs\\Python\\Python311\\Lib\\site-packages\\bs4\\element.py:2030\u001b[0m, in \u001b[0;36mTag.find_all\u001b[1;34m(self, name, attrs, recursive, string, limit, **kwargs)\u001b[0m\n\u001b[0;32m   2028\u001b[0m     generator \u001b[39m=\u001b[39m \u001b[39mself\u001b[39m\u001b[39m.\u001b[39mchildren\n\u001b[0;32m   2029\u001b[0m _stacklevel \u001b[39m=\u001b[39m kwargs\u001b[39m.\u001b[39mpop(\u001b[39m'\u001b[39m\u001b[39m_stacklevel\u001b[39m\u001b[39m'\u001b[39m, \u001b[39m2\u001b[39m)\n\u001b[1;32m-> 2030\u001b[0m \u001b[39mreturn\u001b[39;00m \u001b[39mself\u001b[39;49m\u001b[39m.\u001b[39;49m_find_all(name, attrs, string, limit, generator,\n\u001b[0;32m   2031\u001b[0m                       _stacklevel\u001b[39m=\u001b[39;49m_stacklevel\u001b[39m+\u001b[39;49m\u001b[39m1\u001b[39;49m, \u001b[39m*\u001b[39;49m\u001b[39m*\u001b[39;49mkwargs)\n",
      "File \u001b[1;32mc:\\Users\\clifford.osei\\AppData\\Local\\Programs\\Python\\Python311\\Lib\\site-packages\\bs4\\element.py:841\u001b[0m, in \u001b[0;36mPageElement._find_all\u001b[1;34m(self, name, attrs, string, limit, generator, **kwargs)\u001b[0m\n\u001b[0;32m    839\u001b[0m     \u001b[39mbreak\u001b[39;00m\n\u001b[0;32m    840\u001b[0m \u001b[39mif\u001b[39;00m i:\n\u001b[1;32m--> 841\u001b[0m     found \u001b[39m=\u001b[39m strainer\u001b[39m.\u001b[39;49msearch(i)\n\u001b[0;32m    842\u001b[0m     \u001b[39mif\u001b[39;00m found:\n\u001b[0;32m    843\u001b[0m         results\u001b[39m.\u001b[39mappend(found)\n",
      "File \u001b[1;32mc:\\Users\\clifford.osei\\AppData\\Local\\Programs\\Python\\Python311\\Lib\\site-packages\\bs4\\element.py:2320\u001b[0m, in \u001b[0;36mSoupStrainer.search\u001b[1;34m(self, markup)\u001b[0m\n\u001b[0;32m   2318\u001b[0m \u001b[39melif\u001b[39;00m \u001b[39misinstance\u001b[39m(markup, Tag):\n\u001b[0;32m   2319\u001b[0m     \u001b[39mif\u001b[39;00m \u001b[39mnot\u001b[39;00m \u001b[39mself\u001b[39m\u001b[39m.\u001b[39mstring \u001b[39mor\u001b[39;00m \u001b[39mself\u001b[39m\u001b[39m.\u001b[39mname \u001b[39mor\u001b[39;00m \u001b[39mself\u001b[39m\u001b[39m.\u001b[39mattrs:\n\u001b[1;32m-> 2320\u001b[0m         found \u001b[39m=\u001b[39m \u001b[39mself\u001b[39;49m\u001b[39m.\u001b[39;49msearch_tag(markup)\n\u001b[0;32m   2321\u001b[0m \u001b[39m# If it's text, make sure the text matches.\u001b[39;00m\n\u001b[0;32m   2322\u001b[0m \u001b[39melif\u001b[39;00m \u001b[39misinstance\u001b[39m(markup, NavigableString) \u001b[39mor\u001b[39;00m \\\n\u001b[0;32m   2323\u001b[0m          \u001b[39misinstance\u001b[39m(markup, \u001b[39mstr\u001b[39m):\n",
      "File \u001b[1;32mc:\\Users\\clifford.osei\\AppData\\Local\\Programs\\Python\\Python311\\Lib\\site-packages\\bs4\\element.py:2283\u001b[0m, in \u001b[0;36mSoupStrainer.search_tag\u001b[1;34m(self, markup_name, markup_attrs)\u001b[0m\n\u001b[0;32m   2281\u001b[0m             markup_attr_map[k] \u001b[39m=\u001b[39m v\n\u001b[0;32m   2282\u001b[0m attr_value \u001b[39m=\u001b[39m markup_attr_map\u001b[39m.\u001b[39mget(attr)\n\u001b[1;32m-> 2283\u001b[0m \u001b[39mif\u001b[39;00m \u001b[39mnot\u001b[39;00m \u001b[39mself\u001b[39;49m\u001b[39m.\u001b[39;49m_matches(attr_value, match_against):\n\u001b[0;32m   2284\u001b[0m     match \u001b[39m=\u001b[39m \u001b[39mFalse\u001b[39;00m\n\u001b[0;32m   2285\u001b[0m     \u001b[39mbreak\u001b[39;00m\n",
      "File \u001b[1;32mc:\\Users\\clifford.osei\\AppData\\Local\\Programs\\Python\\Python311\\Lib\\site-packages\\bs4\\element.py:2338\u001b[0m, in \u001b[0;36mSoupStrainer._matches\u001b[1;34m(self, markup, match_against, already_tried)\u001b[0m\n\u001b[0;32m   2334\u001b[0m \u001b[39mif\u001b[39;00m \u001b[39misinstance\u001b[39m(markup, \u001b[39mlist\u001b[39m) \u001b[39mor\u001b[39;00m \u001b[39misinstance\u001b[39m(markup, \u001b[39mtuple\u001b[39m):\n\u001b[0;32m   2335\u001b[0m     \u001b[39m# This should only happen when searching a multi-valued attribute\u001b[39;00m\n\u001b[0;32m   2336\u001b[0m     \u001b[39m# like 'class'.\u001b[39;00m\n\u001b[0;32m   2337\u001b[0m     \u001b[39mfor\u001b[39;00m item \u001b[39min\u001b[39;00m markup:\n\u001b[1;32m-> 2338\u001b[0m         \u001b[39mif\u001b[39;00m \u001b[39mself\u001b[39;49m\u001b[39m.\u001b[39;49m_matches(item, match_against):\n\u001b[0;32m   2339\u001b[0m             \u001b[39mreturn\u001b[39;00m \u001b[39mTrue\u001b[39;00m\n\u001b[0;32m   2340\u001b[0m     \u001b[39m# We didn't match any particular value of the multivalue\u001b[39;00m\n\u001b[0;32m   2341\u001b[0m     \u001b[39m# attribute, but maybe we match the attribute value when\u001b[39;00m\n\u001b[0;32m   2342\u001b[0m     \u001b[39m# considered as a string.\u001b[39;00m\n",
      "File \u001b[1;32mc:\\Users\\clifford.osei\\AppData\\Local\\Programs\\Python\\Python311\\Lib\\site-packages\\bs4\\element.py:2351\u001b[0m, in \u001b[0;36mSoupStrainer._matches\u001b[1;34m(self, markup, match_against, already_tried)\u001b[0m\n\u001b[0;32m   2347\u001b[0m \u001b[39mif\u001b[39;00m match_against \u001b[39mis\u001b[39;00m \u001b[39mTrue\u001b[39;00m:\n\u001b[0;32m   2348\u001b[0m     \u001b[39m# True matches any non-None value.\u001b[39;00m\n\u001b[0;32m   2349\u001b[0m     \u001b[39mreturn\u001b[39;00m markup \u001b[39mis\u001b[39;00m \u001b[39mnot\u001b[39;00m \u001b[39mNone\u001b[39;00m\n\u001b[1;32m-> 2351\u001b[0m \u001b[39mif\u001b[39;00m \u001b[39misinstance\u001b[39m(match_against, Callable):\n\u001b[0;32m   2352\u001b[0m     \u001b[39mreturn\u001b[39;00m match_against(markup)\n\u001b[0;32m   2354\u001b[0m \u001b[39m# Custom callables take the tag as an argument, but all\u001b[39;00m\n\u001b[0;32m   2355\u001b[0m \u001b[39m# other ways of matching match the tag name as a string.\u001b[39;00m\n",
      "File \u001b[1;32m<frozen abc>:117\u001b[0m, in \u001b[0;36m__instancecheck__\u001b[1;34m(cls, instance)\u001b[0m\n",
      "\u001b[1;31mKeyboardInterrupt\u001b[0m: "
     ]
    }
   ],
   "source": [
    "#Scroll table until bottom is reached while retrieving html data into lists\n",
    "while current_scroll < table_height:\n",
    "    scroll_position = current_scroll\n",
    "    driver.execute_script(f\"arguments[0].scrollTop = {scroll_position};\", table_scroll)\n",
    "\n",
    "    data_source = driver.page_source\n",
    "    soup = BeautifulSoup(data_source, \"html.parser\")\n",
    "\n",
    "    results = soup.find(class_=\"ui-grid-viewport ng-isolate-scope\")\n",
    "\n",
    "    player_info = results.find_all(\"div\", class_=\"ui-grid-row ng-scope\")\n",
    "    player_info2 = results.find_all([\"div\"], class_=[\"ui-grid-cell ng-scope ui-grid-coluiGrid-0014\",\n",
    "                                                     \"ui-grid-cell ng-scope ui-grid-coluiGrid-0015\",\n",
    "                                                     \"ui-grid-cell ng-scope ui-grid-coluiGrid-0017\"])\n",
    "\n",
    "    for player in player_info:\n",
    "        name_element = player.find(\"div\", class_=\"ui-grid-cell ng-scope ui-grid-coluiGrid-000J\").text\n",
    "        team_element = player.find(\"div\", class_=\"ui-grid-cell ng-scope ui-grid-coluiGrid-000K\").text\n",
    "        pos_element = player.find(\"div\", class_=\"ui-grid-cell ng-scope ui-grid-coluiGrid-000L\").text\n",
    "        pts_element = player.find(\"div\", class_=\"ui-grid-cell ng-scope ui-grid-coluiGrid-000M\").text\n",
    "        gs_element = player.find(\"div\", class_=\"ui-grid-cell ng-scope ui-grid-coluiGrid-000N\").text\n",
    "        assist_element = player.find(\"div\", class_=\"ui-grid-cell ng-scope ui-grid-coluiGrid-000O\").text\n",
    "        cleansheet_element = player.find(\"div\", class_=\"ui-grid-cell ng-scope ui-grid-coluiGrid-000P\").text\n",
    "        bonus_element = player.find(\"div\", class_=\"ui-grid-cell ng-scope ui-grid-coluiGrid-000U\").text\n",
    "        bonus_ps_element = player.find(\"div\", class_=\"ui-grid-cell ng-scope ui-grid-coluiGrid-000V\").text\n",
    "        ppg_element = player.find(\"div\", class_=\"ui-grid-cell ng-scope ui-grid-coluiGrid-000W\").text\n",
    "        mp_element = player.find(\"div\", class_=\"ui-grid-cell ng-scope ui-grid-coluiGrid-000X\").text\n",
    "        cost_element = player.find(\"div\", class_=\"ui-grid-cell ng-scope ui-grid-coluiGrid-000Y\").text\n",
    "        selected_element = player.find(\"div\", class_=\"ui-grid-cell ng-scope ui-grid-coluiGrid-000Z\").text\n",
    "        gc_element = player.find(\"div\", class_=\"ui-grid-cell ng-scope ui-grid-coluiGrid-0010\").text\n",
    "        og_element = player.find(\"div\", class_=\"ui-grid-cell ng-scope ui-grid-coluiGrid-0011\").text\n",
    "        ps_element = player.find(\"div\", class_=\"ui-grid-cell ng-scope ui-grid-coluiGrid-0012\").text\n",
    "        pm_element = player.find(\"div\", class_=\"ui-grid-cell ng-scope ui-grid-coluiGrid-0013\").text\n",
    "\n",
    "        #Append to lists\n",
    "        list_of_lists[0].append(name_element)\n",
    "        list_of_lists[1].append(team_element)\n",
    "        list_of_lists[2].append(pos_element)\n",
    "        list_of_lists[3].append(pts_element)\n",
    "        list_of_lists[4].append(gs_element)\n",
    "        list_of_lists[5].append(assist_element)\n",
    "        list_of_lists[6].append(cleansheet_element)\n",
    "        list_of_lists[7].append(bonus_element)\n",
    "        list_of_lists[8].append(bonus_ps_element)\n",
    "        list_of_lists[9].append(ppg_element)\n",
    "        list_of_lists[10].append(mp_element)\n",
    "        list_of_lists[11].append(cost_element)\n",
    "        list_of_lists[12].append(selected_element)\n",
    "        list_of_lists[13].append(gc_element)\n",
    "        list_of_lists[14].append(og_element)\n",
    "        list_of_lists[15].append(ps_element)\n",
    "        list_of_lists[16].append(pm_element)\n",
    "    \n",
    "    for player in player_info2:\n",
    "            player_element = player.find(\"div\", class_=\"ui-grid-cell-contents ng-binding ng-scope\").text\n",
    "            if player_element:\n",
    "                list_of_lists[17].append(player_element[0])\n",
    "                list_of_lists[18].append(player_element[1])\n",
    "                list_of_lists[20].append(player_element[2])\n",
    "\n",
    "    current_scroll += 750\n",
    "    \n"
   ]
  },
  {
   "cell_type": "code",
   "execution_count": null,
   "metadata": {},
   "outputs": [],
   "source": [
    "df1 = pd.DataFrame(list_of_lists[0], columns=[\"Player Name\"])\n",
    "df2 = pd.DataFrame(list_of_lists[1], columns=[\"Team\"])\n",
    "df3 = pd.DataFrame(list_of_lists[2], columns=[\"Position\"])\n",
    "df4 = pd.DataFrame(list_of_lists[3], columns=[\"Pts\"])\n",
    "df5 = pd.DataFrame(list_of_lists[4], columns=[\"GS\"])\n",
    "df6 = pd.DataFrame(list_of_lists[5], columns=[\"A\"])\n",
    "df7 = pd.DataFrame(list_of_lists[6], columns=[\"CS\"])\n",
    "df8 = pd.DataFrame(list_of_lists[7], columns=[\"B\"])\n",
    "df9 = pd.DataFrame(list_of_lists[8], columns=[\"BPS\"])\n",
    "df10 = pd.DataFrame(list_of_lists[9], columns=[\"PPG\"])\n",
    "df11 = pd.DataFrame(list_of_lists[10], columns=[\"MP\"])\n",
    "df12 = pd.DataFrame(list_of_lists[11], columns=[\"Cost\"])\n",
    "df13 = pd.DataFrame(list_of_lists[12], columns=[\"TSB\"])\n",
    "df14 = pd.DataFrame(list_of_lists[13], columns=[\"GC\"])\n",
    "df15 = pd.DataFrame(list_of_lists[14], columns=[\"OG\"])\n",
    "df16 = pd.DataFrame(list_of_lists[15], columns=[\"PS\"])\n",
    "df17 = pd.DataFrame(list_of_lists[16], columns=[\"PM\"])\n",
    "df18 = pd.DataFrame(list_of_lists[17], columns=[\"YC\"])\n",
    "df19 = pd.DataFrame(list_of_lists[18], columns=[\"RC\"])\n",
    "df20 = pd.DataFrame(list_of_lists[19], columns=[\"ICT\"])\n"
   ]
  },
  {
   "cell_type": "code",
   "execution_count": null,
   "metadata": {},
   "outputs": [],
   "source": [
    "raw_data = df1.join(df2).join(df3).join(df4).join(df5).join(df6).join(df7).join(df8).join(df9).join(df10).join(df11).join(df12).join(df13).join(df14).join(df15).join(df16).join(df17).join(df18).join(df19).join(df20)\n",
    "print(len(raw_data))"
   ]
  },
  {
   "cell_type": "code",
   "execution_count": null,
   "metadata": {},
   "outputs": [],
   "source": [
    "raw_data = raw_data.drop_duplicates(subset=['Player Name', 'Team', 'Position', 'Cost'])\n",
    "raw_data['Season'] = season"
   ]
  },
  {
   "cell_type": "code",
   "execution_count": null,
   "metadata": {},
   "outputs": [],
   "source": [
    "print(len(raw_data))"
   ]
  },
  {
   "cell_type": "code",
   "execution_count": null,
   "metadata": {},
   "outputs": [],
   "source": [
    "raw_data.to_csv(season + ' FPL data.csv', index=False)"
   ]
  }
 ],
 "metadata": {
  "kernelspec": {
   "display_name": "Python 3",
   "language": "python",
   "name": "python3"
  },
  "language_info": {
   "codemirror_mode": {
    "name": "ipython",
    "version": 3
   },
   "file_extension": ".py",
   "mimetype": "text/x-python",
   "name": "python",
   "nbconvert_exporter": "python",
   "pygments_lexer": "ipython3",
   "version": "3.11.3"
  }
 },
 "nbformat": 4,
 "nbformat_minor": 2
}
