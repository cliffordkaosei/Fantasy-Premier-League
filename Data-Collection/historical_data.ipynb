{
 "cells": [
  {
   "cell_type": "markdown",
   "metadata": {},
   "source": [
    "This Notebook takes the individual datasets per season, excluding the current season and joines the into a single dataset"
   ]
  },
  {
   "cell_type": "code",
   "execution_count": 1,
   "metadata": {},
   "outputs": [],
   "source": [
    "import pandas as pd\n",
    "import os"
   ]
  },
  {
   "cell_type": "code",
   "execution_count": 2,
   "metadata": {},
   "outputs": [],
   "source": [
    "#Get current working directory\n",
    "datasets = 'Datasets/Training_data/'\n",
    "\n",
    "#Initialise empty df to store combined datasets\n",
    "historical_data = pd.DataFrame()"
   ]
  },
  {
   "cell_type": "code",
   "execution_count": 3,
   "metadata": {},
   "outputs": [],
   "source": [
    "# Iterate through each file in the directory\n",
    "for filename in os.listdir(datasets):\n",
    "    if filename.endswith('.csv'):\n",
    "        file_path = os.path.join(datasets, filename)\n",
    "\n",
    "        # Read the CSV file into a DataFrame\n",
    "        current_data = pd.read_csv(file_path)\n",
    "        \n",
    "        # Concatenate the current data to the combined_data DataFrame\n",
    "        historical_data = pd.concat([historical_data, current_data], ignore_index=True)"
   ]
  },
  {
   "cell_type": "code",
   "execution_count": 4,
   "metadata": {},
   "outputs": [
    {
     "name": "stdout",
     "output_type": "stream",
     "text": [
      "  Player Name Team Position  Pts  GS   A  CS   B  BPS  PPG    MP   Cost  \\\n",
      "0     Sánchez  ARS      MID  264  24  11  13  32  834  6.9  3217  £11.7   \n",
      "1        Alli  TOT      MID  225  18  11  17  17  679  6.1  3036   £9.1   \n",
      "2      Hazard  CHE      MID  224  16   9  17  33  869  6.2  2985  £10.5   \n",
      "3        Kane  TOT      FWD  224  29   7  14  33  920  7.5  2523  £11.9   \n",
      "4      Lukaku  EVE      FWD  221  25   6  13  33  824  6.0  3266  £10.1   \n",
      "\n",
      "     TSB  GC  OG  PS  PM  Season  \n",
      "0  29.7%  41   0   0   1    2016  \n",
      "1  32.3%  22   0   0   0    2016  \n",
      "2  30.6%  29   0   0   1    2016  \n",
      "3  23.3%  19   0   0   1    2016  \n",
      "4  32.2%  42   0   0   0    2016  \n"
     ]
    }
   ],
   "source": [
    "# Display the combined data\n",
    "print(historical_data.head())\n",
    "\n",
    "# Save the combined data to a new CSV file\n",
    "historical_data.to_csv('Datasets/Training_data/historical_data.csv', index=False)"
   ]
  },
  {
   "cell_type": "code",
   "execution_count": 5,
   "metadata": {},
   "outputs": [
    {
     "data": {
      "text/plain": [
       "3936"
      ]
     },
     "execution_count": 5,
     "metadata": {},
     "output_type": "execute_result"
    }
   ],
   "source": [
    "len(historical_data)"
   ]
  }
 ],
 "metadata": {
  "kernelspec": {
   "display_name": "Python 3",
   "language": "python",
   "name": "python3"
  },
  "language_info": {
   "codemirror_mode": {
    "name": "ipython",
    "version": 3
   },
   "file_extension": ".py",
   "mimetype": "text/x-python",
   "name": "python",
   "nbconvert_exporter": "python",
   "pygments_lexer": "ipython3",
   "version": "3.11.3"
  }
 },
 "nbformat": 4,
 "nbformat_minor": 2
}
