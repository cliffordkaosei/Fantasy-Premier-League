{
 "cells": [
  {
   "cell_type": "code",
   "execution_count": null,
   "metadata": {},
   "outputs": [],
   "source": [
    "import pandas as pd\n",
    "import time\n",
    "from time import sleep\n",
    "from selenium import webdriver\n",
    "from selenium.webdriver.common.by import By\n",
    "from bs4 import BeautifulSoup"
   ]
  },
  {
   "cell_type": "code",
   "execution_count": null,
   "metadata": {},
   "outputs": [],
   "source": [
    "#State season to collect data from\n",
    "\n",
    "season = input(\"Enter start year of season to collect data from: \")\n",
    "print(\"You entered:\", season, \" Remember to select the season and click update when the web page appears and pauses\")"
   ]
  },
  {
   "cell_type": "code",
   "execution_count": null,
   "metadata": {},
   "outputs": [],
   "source": [
    "# season = 2023"
   ]
  },
  {
   "cell_type": "code",
   "execution_count": null,
   "metadata": {},
   "outputs": [],
   "source": [
    "#Empty lists to store FPL stats\n",
    "list_num = 20\n",
    "list_of_lists =[[] for _ in range(list_num)]"
   ]
  },
  {
   "cell_type": "code",
   "execution_count": null,
   "metadata": {},
   "outputs": [],
   "source": [
    "#Initialising web page browsing\n",
    "driver = webdriver.Edge()\n",
    "driver.maximize_window()\n",
    "\n",
    "url = 'https://www.fantasynutmeg.com/history'\n",
    "\n",
    "driver.get(url)\n",
    "time.sleep(10) #Use pause to select season and click update, remember to set year variable first"
   ]
  },
  {
   "cell_type": "code",
   "execution_count": null,
   "metadata": {},
   "outputs": [],
   "source": [
    "#Locating table of FPL stats\n",
    "table_element = driver.find_element(By.XPATH, '/html/body/div[2]/div/div[2]/div/div[1]/div/div[2]/div[1]')\n",
    "driver.execute_script(\"arguments[0].scrollIntoView();\", table_element)\n"
   ]
  },
  {
   "cell_type": "code",
   "execution_count": null,
   "metadata": {},
   "outputs": [],
   "source": [
    "#Get scrolling element of table\n",
    "table_scroll = driver.find_element(By.XPATH, '/html/body/div[2]/div/div[2]/div/div[1]/div/div[2]/div[1]/div[2]/div/div[1]/div[2]')\n",
    "\n",
    "#Define scrolling parameters\n",
    "table_height = driver.execute_script(\"return arguments[0].scrollHeight;\", table_scroll)\n",
    "current_scroll = 0"
   ]
  },
  {
   "cell_type": "code",
   "execution_count": null,
   "metadata": {},
   "outputs": [],
   "source": [
    "#Scroll table until bottom is reached while retrieving html data into lists\n",
    "while current_scroll < table_height:\n",
    "    scroll_position = current_scroll\n",
    "    driver.execute_script(f\"arguments[0].scrollTop = {scroll_position};\", table_scroll)\n",
    "    time.sleep(1)\n",
    "\n",
    "    #Locate HTML parent elements\n",
    "    data_source = driver.page_source\n",
    "    soup = BeautifulSoup(data_source, \"html.parser\")\n",
    "\n",
    "    results = soup.find(class_=\"ui-grid-viewport ng-isolate-scope\")\n",
    "\n",
    "    player_info = results.find_all(\"div\", class_=\"ui-grid-row ng-scope\")\n",
    "\n",
    "    #Find child elements and filter out text\n",
    "    for player in player_info:\n",
    "        name_element = player.find(\"div\", class_=\"ui-grid-cell ng-scope ui-grid-coluiGrid-000J\").text\n",
    "        team_element = player.find(\"div\", class_=\"ui-grid-cell ng-scope ui-grid-coluiGrid-000K\").text\n",
    "        pos_element = player.find(\"div\", class_=\"ui-grid-cell ng-scope ui-grid-coluiGrid-000L\").text\n",
    "        pts_element = player.find(\"div\", class_=\"ui-grid-cell ng-scope ui-grid-coluiGrid-000M\").text\n",
    "        gs_element = player.find(\"div\", class_=\"ui-grid-cell ng-scope ui-grid-coluiGrid-000N\").text\n",
    "        assist_element = player.find(\"div\", class_=\"ui-grid-cell ng-scope ui-grid-coluiGrid-000O\").text\n",
    "        cleansheet_element = player.find(\"div\", class_=\"ui-grid-cell ng-scope ui-grid-coluiGrid-000P\").text\n",
    "        bonus_element = player.find(\"div\", class_=\"ui-grid-cell ng-scope ui-grid-coluiGrid-000U\").text\n",
    "        bonus_ps_element = player.find(\"div\", class_=\"ui-grid-cell ng-scope ui-grid-coluiGrid-000V\").text\n",
    "        ppg_element = player.find(\"div\", class_=\"ui-grid-cell ng-scope ui-grid-coluiGrid-000W\").text\n",
    "        mp_element = player.find(\"div\", class_=\"ui-grid-cell ng-scope ui-grid-coluiGrid-000X\").text\n",
    "        cost_element = player.find(\"div\", class_=\"ui-grid-cell ng-scope ui-grid-coluiGrid-000Y\").text\n",
    "        selected_element = player.find(\"div\", class_=\"ui-grid-cell ng-scope ui-grid-coluiGrid-000Z\").text\n",
    "        gc_element = player.find(\"div\", class_=\"ui-grid-cell ng-scope ui-grid-coluiGrid-0010\").text\n",
    "        og_element = player.find(\"div\", class_=\"ui-grid-cell ng-scope ui-grid-coluiGrid-0011\").text\n",
    "        ps_element = player.find(\"div\", class_=\"ui-grid-cell ng-scope ui-grid-coluiGrid-0012\").text\n",
    "        pm_element = player.find(\"div\", class_=\"ui-grid-cell ng-scope ui-grid-coluiGrid-0013\").text\n",
    "\n",
    "        #Append to lists\n",
    "        list_of_lists[0].append(name_element)\n",
    "        list_of_lists[1].append(team_element)\n",
    "        list_of_lists[2].append(pos_element)\n",
    "        list_of_lists[3].append(pts_element)\n",
    "        list_of_lists[4].append(gs_element)\n",
    "        list_of_lists[5].append(assist_element)\n",
    "        list_of_lists[6].append(cleansheet_element)\n",
    "        list_of_lists[7].append(bonus_element)\n",
    "        list_of_lists[8].append(bonus_ps_element)\n",
    "        list_of_lists[9].append(ppg_element)\n",
    "        list_of_lists[10].append(mp_element)\n",
    "        list_of_lists[11].append(cost_element)\n",
    "        list_of_lists[12].append(selected_element)\n",
    "        list_of_lists[13].append(gc_element)\n",
    "        list_of_lists[14].append(og_element)\n",
    "        list_of_lists[15].append(ps_element)\n",
    "        list_of_lists[16].append(pm_element)\n",
    "\n",
    "    current_scroll += 500\n",
    "    \n"
   ]
  },
  {
   "cell_type": "code",
   "execution_count": null,
   "metadata": {},
   "outputs": [],
   "source": [
    "#Convert lists to Dataframes\n",
    "df1 = pd.DataFrame(list_of_lists[0], columns=[\"Player Name\"])\n",
    "df2 = pd.DataFrame(list_of_lists[1], columns=[\"Team\"])\n",
    "df3 = pd.DataFrame(list_of_lists[2], columns=[\"Position\"])\n",
    "df4 = pd.DataFrame(list_of_lists[3], columns=[\"Pts\"])\n",
    "df5 = pd.DataFrame(list_of_lists[4], columns=[\"GS\"])\n",
    "df6 = pd.DataFrame(list_of_lists[5], columns=[\"A\"])\n",
    "df7 = pd.DataFrame(list_of_lists[6], columns=[\"CS\"])\n",
    "df8 = pd.DataFrame(list_of_lists[7], columns=[\"B\"])\n",
    "df9 = pd.DataFrame(list_of_lists[8], columns=[\"BPS\"])\n",
    "df10 = pd.DataFrame(list_of_lists[9], columns=[\"PPG\"])\n",
    "df11 = pd.DataFrame(list_of_lists[10], columns=[\"MP\"])\n",
    "df12 = pd.DataFrame(list_of_lists[11], columns=[\"Cost\"])\n",
    "df13 = pd.DataFrame(list_of_lists[12], columns=[\"TSB\"])\n",
    "df14 = pd.DataFrame(list_of_lists[13], columns=[\"GC\"])\n",
    "df15 = pd.DataFrame(list_of_lists[14], columns=[\"OG\"])\n",
    "df16 = pd.DataFrame(list_of_lists[15], columns=[\"PS\"])\n",
    "df17 = pd.DataFrame(list_of_lists[16], columns=[\"PM\"])\n",
    "# df18 = pd.DataFrame(list_of_lists[17], columns=[\"YC\"])\n",
    "# df19 = pd.DataFrame(list_of_lists[18], columns=[\"RC\"])\n",
    "# df20 = pd.DataFrame(list_of_lists[19], columns=[\"ICT\"])\n"
   ]
  },
  {
   "cell_type": "code",
   "execution_count": null,
   "metadata": {},
   "outputs": [],
   "source": [
    "raw = df1.join(df2).join(df3).join(df4).join(df5).join(df6).join(df7).join(df8).join(df9).join(df10).join(df11).join(df12).join(df13).join(df14).join(df15).join(df16).join(df17) #join(df18).join(df19).join(df20)\n",
    "print(len(raw))"
   ]
  },
  {
   "cell_type": "code",
   "execution_count": null,
   "metadata": {},
   "outputs": [],
   "source": [
    "#Removing any duplicates based on unique conditions\n",
    "raw_data = raw.drop_duplicates(subset=['Player Name', 'Team', 'Position', 'Cost'])\n",
    "raw_data['Season'] = season"
   ]
  },
  {
   "cell_type": "code",
   "execution_count": null,
   "metadata": {},
   "outputs": [],
   "source": [
    "print(len(raw_data))"
   ]
  },
  {
   "cell_type": "code",
   "execution_count": null,
   "metadata": {},
   "outputs": [],
   "source": [
    "raw_data"
   ]
  },
  {
   "cell_type": "code",
   "execution_count": null,
   "metadata": {},
   "outputs": [],
   "source": [
    "raw_data.to_csv(str(season) + ' FPL data.csv', index=False)"
   ]
  }
 ],
 "metadata": {
  "kernelspec": {
   "display_name": "Python 3",
   "language": "python",
   "name": "python3"
  },
  "language_info": {
   "codemirror_mode": {
    "name": "ipython",
    "version": 3
   },
   "file_extension": ".py",
   "mimetype": "text/x-python",
   "name": "python",
   "nbconvert_exporter": "python",
   "pygments_lexer": "ipython3",
   "version": "3.11.3"
  }
 },
 "nbformat": 4,
 "nbformat_minor": 2
}
